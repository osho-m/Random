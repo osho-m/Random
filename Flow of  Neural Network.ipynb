{
 "cells": [
  {
   "cell_type": "code",
   "execution_count": 1,
   "id": "bbf59c14",
   "metadata": {},
   "outputs": [],
   "source": [
    "import tensorflow as tf                     #Importing necessary libraries"
   ]
  },
  {
   "cell_type": "code",
   "execution_count": 2,
   "id": "6d5e4490",
   "metadata": {},
   "outputs": [],
   "source": [
    "#set random seed\n",
    "tf.random.set_seed(42)"
   ]
  },
  {
   "cell_type": "code",
   "execution_count": 3,
   "id": "d65c454f",
   "metadata": {},
   "outputs": [],
   "source": [
    "#1. Create the model\n",
    "model = tf.keras.Sequential([\n",
    "tf.keras.layers.Dense(6, input_shape = (4, ), activation = 'relu'),#Hidden layer\n",
    "tf.keras.layers.Dense(6, activation = 'relu'),# Hidden layer\n",
    "tf.keras.layers.Dense(2, activation = 'relu')])# Output layer"
   ]
  },
  {
   "cell_type": "code",
   "execution_count": 4,
   "id": "9441ff17",
   "metadata": {},
   "outputs": [],
   "source": [
    "#2. Compile the model\n",
    "model.compile(loss = tf.keras.losses.mae,\n",
    "optimizer = tf.keras.optimizers.SGD(),\n",
    "metrics = [\"mae\"])"
   ]
  },
  {
   "cell_type": "code",
   "execution_count": 5,
   "id": "0dd4501d",
   "metadata": {},
   "outputs": [
    {
     "name": "stdout",
     "output_type": "stream",
     "text": [
      "Model: \"sequential\"\n",
      "_________________________________________________________________\n",
      "Layer (type)                 Output Shape              Param #   \n",
      "=================================================================\n",
      "dense (Dense)                (None, 6)                 30        \n",
      "_________________________________________________________________\n",
      "dense_1 (Dense)              (None, 6)                 42        \n",
      "_________________________________________________________________\n",
      "dense_2 (Dense)              (None, 2)                 14        \n",
      "=================================================================\n",
      "Total params: 86\n",
      "Trainable params: 86\n",
      "Non-trainable params: 0\n",
      "_________________________________________________________________\n"
     ]
    }
   ],
   "source": [
    "model.summary()     #summary of model"
   ]
  }
 ],
 "metadata": {
  "kernelspec": {
   "display_name": "Python 3 (ipykernel)",
   "language": "python",
   "name": "python3"
  },
  "language_info": {
   "codemirror_mode": {
    "name": "ipython",
    "version": 3
   },
   "file_extension": ".py",
   "mimetype": "text/x-python",
   "name": "python",
   "nbconvert_exporter": "python",
   "pygments_lexer": "ipython3",
   "version": "3.7.9"
  }
 },
 "nbformat": 4,
 "nbformat_minor": 5
}
