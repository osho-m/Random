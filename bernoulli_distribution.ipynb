{
 "cells": [
  {
   "cell_type": "code",
   "execution_count": 1,
   "id": "9393cdb3",
   "metadata": {},
   "outputs": [],
   "source": [
    "#Import required libraries:\n",
    "from scipy.stats import bernoulli\n",
    "import matplotlib.pyplot as plt\n"
   ]
  },
  {
   "cell_type": "code",
   "execution_count": 2,
   "id": "d8c96ba9",
   "metadata": {},
   "outputs": [],
   "source": [
    "#Define probability of success:\n",
    "p = 0.7"
   ]
  },
  {
   "cell_type": "code",
   "execution_count": 3,
   "id": "a65bdc39",
   "metadata": {},
   "outputs": [],
   "source": [
    "#Find the statisticsal values:\n",
    "mean, var, skew, kurt = bernoulli.stats(p, moments='mvsk')"
   ]
  },
  {
   "cell_type": "code",
   "execution_count": 4,
   "id": "03ed1e72",
   "metadata": {},
   "outputs": [
    {
     "name": "stdout",
     "output_type": "stream",
     "text": [
      "Mean =  0.7\n"
     ]
    }
   ],
   "source": [
    "#Print mean:\n",
    "print(\"Mean = \",mean)"
   ]
  },
  {
   "cell_type": "code",
   "execution_count": 5,
   "id": "a2342c36",
   "metadata": {},
   "outputs": [
    {
     "name": "stdout",
     "output_type": "stream",
     "text": [
      "Variance =   0.21000000000000002\n"
     ]
    }
   ],
   "source": [
    "#Print variance:\n",
    "print(\"Variance =  \",var)"
   ]
  },
  {
   "cell_type": "code",
   "execution_count": 6,
   "id": "c09f88d2",
   "metadata": {},
   "outputs": [
    {
     "name": "stdout",
     "output_type": "stream",
     "text": [
      "Skewness =  -0.8728715609439702\n"
     ]
    }
   ],
   "source": [
    "#Print skewness:\n",
    "print(\"Skewness = \",skew)\n"
   ]
  },
  {
   "cell_type": "code",
   "execution_count": 7,
   "id": "53b7d72c",
   "metadata": {},
   "outputs": [
    {
     "name": "stdout",
     "output_type": "stream",
     "text": [
      "Kurtosis =  -1.2380952380952361\n"
     ]
    }
   ],
   "source": [
    "#Print kurtosis:\n",
    "print(\"Kurtosis = \",kurt)"
   ]
  },
  {
   "cell_type": "code",
   "execution_count": 8,
   "id": "fab7b94e",
   "metadata": {},
   "outputs": [
    {
     "name": "stdout",
     "output_type": "stream",
     "text": [
      "Mean =  0.7\n"
     ]
    }
   ],
   "source": [
    "#Get only mean value:\n",
    "mean = bernoulli.mean(p)\n",
    "print(\"Mean = \",mean)"
   ]
  },
  {
   "cell_type": "code",
   "execution_count": 9,
   "id": "c2560703",
   "metadata": {},
   "outputs": [
    {
     "name": "stdout",
     "output_type": "stream",
     "text": [
      "Median =  1.0\n"
     ]
    }
   ],
   "source": [
    "#Get only median value:\n",
    "median = bernoulli.median(p)\n",
    "print(\"Median = \",median)"
   ]
  },
  {
   "cell_type": "code",
   "execution_count": 10,
   "id": "fb51e07c",
   "metadata": {},
   "outputs": [
    {
     "name": "stdout",
     "output_type": "stream",
     "text": [
      "Variance =  0.21000000000000002\n"
     ]
    }
   ],
   "source": [
    "#Get only variance value:\n",
    "var = bernoulli.var(p)\n",
    "print(\"Variance = \",var)"
   ]
  },
  {
   "cell_type": "code",
   "execution_count": 11,
   "id": "617b87ac",
   "metadata": {},
   "outputs": [
    {
     "name": "stdout",
     "output_type": "stream",
     "text": [
      "Standard Deviation =  0.45825756949558405\n"
     ]
    }
   ],
   "source": [
    "#Get only standard deviation value:\n",
    "std = bernoulli.std(p)\n",
    "print(\"Standard Deviation = \",std)"
   ]
  },
  {
   "cell_type": "code",
   "execution_count": 12,
   "id": "3270b6b6",
   "metadata": {},
   "outputs": [
    {
     "name": "stdout",
     "output_type": "stream",
     "text": [
      "Probability Mass Function =  [0.3 0.7]\n"
     ]
    }
   ],
   "source": [
    "#Get Probability Mass Function(PMF):\n",
    "x = [0,1]\n",
    "p=0.7\n",
    "print(\"Probability Mass Function = \",bernoulli.pmf(x,p))"
   ]
  },
  {
   "cell_type": "code",
   "execution_count": 13,
   "id": "ab1db47a",
   "metadata": {},
   "outputs": [
    {
     "data": {
      "text/plain": [
       "<matplotlib.legend.Legend at 0x1cebab419d0>"
      ]
     },
     "execution_count": 13,
     "metadata": {},
     "output_type": "execute_result"
    },
    {
     "data": {
      "image/png": "[encoded data removed]",
      "text/plain": [
       "<Figure size 432x288 with 1 Axes>"
      ]
     },
     "metadata": {
      "needs_background": "light"
     },
     "output_type": "display_data"
    }
   ],
   "source": [
    "#Plot the graph for Probability Mass Function(PMF):\n",
    "x = [0,1]\n",
    "p=0.7\n",
    "plt.scatter(x,bernoulli.pmf(x,p),label=\"PMF\")\n",
    "plt.title(\"Probability Mass Function\")\n",
    "plt.xlabel(\"Data Points\")\n",
    "plt.ylabel(\"Probability\")\n",
    "plt.legend()"
   ]
  },
  {
   "cell_type": "code",
   "execution_count": 14,
   "id": "eec2e3f7",
   "metadata": {},
   "outputs": [
    {
     "name": "stdout",
     "output_type": "stream",
     "text": [
      "Cumulative Density Function =  [0.3 1. ]\n"
     ]
    }
   ],
   "source": [
    "#Get Cumulative Density Function(CDF):\n",
    "x = [0,1]\n",
    "p = 0.7\n",
    "print(\"Cumulative Density Function = \",bernoulli.cdf(x,p))\n"
   ]
  },
  {
   "cell_type": "code",
   "execution_count": 15,
   "id": "6e876db4",
   "metadata": {},
   "outputs": [
    {
     "data": {
      "text/plain": [
       "<matplotlib.legend.Legend at 0x1ceb7ac6040>"
      ]
     },
     "execution_count": 15,
     "metadata": {},
     "output_type": "execute_result"
    },
    {
     "data": {
      "image/png": "[encoded data removed]",
      "text/plain": [
       "<Figure size 432x288 with 1 Axes>"
      ]
     },
     "metadata": {
      "needs_background": "light"
     },
     "output_type": "display_data"
    }
   ],
   "source": [
    "#Plot the Cumulative Density Function(CDF):\n",
    "x = [0,1]\n",
    "p = 0.7\n",
    "plt.scatter(x,bernoulli.cdf(x,p),label=\"CDF\")\n",
    "plt.title(\"Cumulative Density Function\")\n",
    "plt.xlabel(\"Data Points\")\n",
    "plt.ylabel(\"Probability\")\n",
    "plt.legend()"
   ]
  },
  {
   "cell_type": "code",
   "execution_count": 16,
   "id": "ed335d9a",
   "metadata": {},
   "outputs": [
    {
     "data": {
      "text/plain": [
       "Text(0, 0.5, 'Probability')"
      ]
     },
     "execution_count": 16,
     "metadata": {},
     "output_type": "execute_result"
    },
    {
     "data": {
      "image/png": "[encoded data removed]",
      "text/plain": [
       "<Figure size 432x288 with 1 Axes>"
      ]
     },
     "metadata": {
      "needs_background": "light"
     },
     "output_type": "display_data"
    }
   ],
   "source": [
    "#Plot the bar graph for PMF:\n",
    "x = [0,1]\n",
    "p = 0.7\n",
    "plt.bar(x,bernoulli.pmf(x,p),width=0.1,color=[\"r\",\"b\"])\n",
    "plt.title(\"Probability Mass Function\")\n",
    "plt.xlabel(\"Data Points\")\n",
    "plt.ylabel(\"Probability\")"
   ]
  },
  {
   "cell_type": "code",
   "execution_count": 17,
   "id": "c2e298a6",
   "metadata": {},
   "outputs": [
    {
     "data": {
      "text/plain": [
       "Text(0, 0.5, 'Probability')"
      ]
     },
     "execution_count": 17,
     "metadata": {},
     "output_type": "execute_result"
    },
    {
     "data": {
      "image/png": "[encoded data removed]",
      "text/plain": [
       "<Figure size 432x288 with 1 Axes>"
      ]
     },
     "metadata": {
      "needs_background": "light"
     },
     "output_type": "display_data"
    }
   ],
   "source": [
    "\n",
    "#Plot the bar graph for CDF:\n",
    "x = [0,1]\n",
    "p = 0.7\n",
    "plt.bar(x,bernoulli.cdf(x,p),width=0.1,color=[\"r\",\"b\"])\n",
    "plt.title(\"Cumulative Density Function\")\n",
    "plt.xlabel(\"Data Points\")\n",
    "plt.ylabel(\"Probability\")"
   ]
  },
  {
   "cell_type": "code",
   "execution_count": 18,
   "id": "96ea8a35",
   "metadata": {},
   "outputs": [
    {
     "name": "stdout",
     "output_type": "stream",
     "text": [
      "[1 0 1 1 1 1 1 1 0 1 0 1 1 0 1 1 1 0 1 1 1 0 0 1 1 1 1 1 1 1 1 0 1 1 1 1 1\n",
      " 1 0 0 0 1 0 0 1 0 1 1 1 1 0 1 1 1 0 1 1 1 0 0 1 1 0 1 0 0 0 1 1 1 1 1 0 1\n",
      " 1 1 1 1 1 1 0 1 1 1 1 1 1 1 1 1 1 1 0 1 0 0 0 1 0 1]\n"
     ]
    }
   ],
   "source": [
    "#Generate Output for Random Bernoulli Events:\n",
    "p = 0.7\n",
    "r = bernoulli.rvs(p, size=100)\n",
    "print(r)"
   ]
  },
  {
   "cell_type": "code",
   "execution_count": null,
   "id": "2bfa20e5",
   "metadata": {},
   "outputs": [],
   "source": []
  }
 ],
 "metadata": {
  "kernelspec": {
   "display_name": "Python 3 (ipykernel)",
   "language": "python",
   "name": "python3"
  },
  "language_info": {
   "codemirror_mode": {
    "name": "ipython",
    "version": 3
   },
   "file_extension": ".py",
   "mimetype": "text/x-python",
   "name": "python",
   "nbconvert_exporter": "python",
   "pygments_lexer": "ipython3",
   "version": "3.9.7"
  }
 },
 "nbformat": 4,
 "nbformat_minor": 5
}
